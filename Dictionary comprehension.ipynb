{
 "cells": [
  {
   "cell_type": "code",
   "execution_count": 1,
   "metadata": {},
   "outputs": [
    {
     "name": "stdout",
     "output_type": "stream",
     "text": [
      "{1: 2, 2: 4, 3: 6, 4: 8, 5: 10, 6: 12, 7: 14, 8: 16, 9: 18, 10: 20, 11: 22, 12: 24, 13: 26, 14: 28, 15: 30, 16: 32, 17: 34, 18: 36, 19: 38, 20: 40}\n"
     ]
    }
   ],
   "source": [
    "#Dictionary with out comprehension\n",
    "dict1={}\n",
    "for i in range (1,21):\n",
    "    dict1[i]=i*2\n",
    "print(dict1)"
   ]
  },
  {
   "cell_type": "markdown",
   "metadata": {},
   "source": [
    "#Dictionary with comprehension\n",
    "#syntax:\n",
    "#    var={key:value or expression  for i in range (n-1)}"
   ]
  },
  {
   "cell_type": "code",
   "execution_count": 5,
   "metadata": {},
   "outputs": [
    {
     "name": "stdout",
     "output_type": "stream",
     "text": [
      "{0: 0, 1: 2, 2: 4, 3: 6, 4: 8, 5: 10, 6: 12, 7: 14, 8: 16, 9: 18}\n"
     ]
    }
   ],
   "source": [
    "dict2={i:i*2 for i in range (10)}\n",
    "print(dict2)"
   ]
  },
  {
   "cell_type": "code",
   "execution_count": 13,
   "metadata": {},
   "outputs": [
    {
     "name": "stdout",
     "output_type": "stream",
     "text": [
      "{2: 4, 4: 8, 6: 12, 8: 16, 10: 20, 12: 24, 14: 28, 16: 32, 18: 36, 20: 40}\n"
     ]
    }
   ],
   "source": [
    "dict3={}\n",
    "for i in range (1,21):\n",
    "    if (i%2==0):\n",
    "        dict3[i]=i*2\n",
    "print(dict3)"
   ]
  },
  {
   "cell_type": "code",
   "execution_count": 12,
   "metadata": {},
   "outputs": [
    {
     "name": "stdout",
     "output_type": "stream",
     "text": [
      "{2: 4, 4: 8, 6: 12, 8: 16, 10: 20, 12: 24, 14: 28, 16: 32, 18: 36, 20: 40}\n"
     ]
    }
   ],
   "source": [
    "dict4={i:i*2 for i in range (1,21) if i%2==0}\n",
    "print(dict4)"
   ]
  },
  {
   "cell_type": "code",
   "execution_count": 14,
   "metadata": {},
   "outputs": [
    {
     "name": "stdout",
     "output_type": "stream",
     "text": [
      "{6: 12, 12: 24, 18: 36}\n"
     ]
    }
   ],
   "source": [
    "dict5={}\n",
    "for i in range (1,21):\n",
    "    if (i%2==0):\n",
    "        if (i%3)==0:\n",
    "            dict5[i]=i*2        \n",
    "        \n",
    "print(dict5)"
   ]
  },
  {
   "cell_type": "code",
   "execution_count": 15,
   "metadata": {},
   "outputs": [
    {
     "name": "stdout",
     "output_type": "stream",
     "text": [
      "{6: 12, 12: 24, 18: 36}\n"
     ]
    }
   ],
   "source": [
    "dict6={i:i*2 for i in range(1,21) if i%2==0 if i%3==0}\n",
    "print(dict6)"
   ]
  },
  {
   "cell_type": "code",
   "execution_count": 18,
   "metadata": {},
   "outputs": [
    {
     "name": "stdout",
     "output_type": "stream",
     "text": [
      "{1: 'not divisible by 2', 2: 2, 3: 'not divisible by 2', 4: 4, 5: 'not divisible by 2', 6: 6, 7: 'not divisible by 2', 8: 8, 9: 'not divisible by 2', 10: 10, 11: 'not divisible by 2', 12: 12, 13: 'not divisible by 2', 14: 14, 15: 'not divisible by 2', 16: 16, 17: 'not divisible by 2', 18: 18, 19: 'not divisible by 2', 20: 20}\n"
     ]
    }
   ],
   "source": [
    "dict7={}\n",
    "for i in range(1,21):\n",
    "    if i%2 ==0:\n",
    "        dict7[i]=i\n",
    "    else:\n",
    "        dict7[i]=\"not divisible by 2\"\n",
    "        \n",
    "print(dict7)"
   ]
  },
  {
   "cell_type": "code",
   "execution_count": 19,
   "metadata": {},
   "outputs": [
    {
     "name": "stdout",
     "output_type": "stream",
     "text": [
      "{1: 'Invalid', 2: 2, 3: 'Invalid', 4: 4, 5: 'Invalid', 6: 6, 7: 'Invalid', 8: 8, 9: 'Invalid', 10: 10, 11: 'Invalid', 12: 12, 13: 'Invalid', 14: 14, 15: 'Invalid', 16: 16, 17: 'Invalid', 18: 18, 19: 'Invalid', 20: 20}\n"
     ]
    }
   ],
   "source": [
    "dict8={i:(i if i%2 ==0 else 'Invalid') for i in range(1,21)}\n",
    "print(dict8)\n"
   ]
  },
  {
   "cell_type": "code",
   "execution_count": null,
   "metadata": {},
   "outputs": [],
   "source": []
  }
 ],
 "metadata": {
  "kernelspec": {
   "display_name": "Python 3",
   "language": "python",
   "name": "python3"
  },
  "language_info": {
   "codemirror_mode": {
    "name": "ipython",
    "version": 3
   },
   "file_extension": ".py",
   "mimetype": "text/x-python",
   "name": "python",
   "nbconvert_exporter": "python",
   "pygments_lexer": "ipython3",
   "version": "3.7.3"
  }
 },
 "nbformat": 4,
 "nbformat_minor": 4
}
