{
 "cells": [
  {
   "cell_type": "code",
   "execution_count": 14,
   "metadata": {},
   "outputs": [
    {
     "name": "stdout",
     "output_type": "stream",
     "text": [
      "feature 1 isworking \n",
      "feature 2 is working\n"
     ]
    }
   ],
   "source": [
    "class A:\n",
    "    def feature1(self):\n",
    "        print(\"feature 1 isworking \")\n",
    "    def feature2(self):\n",
    "        print(\"feature 2 is working\")\n",
    "a1=A()\n",
    "a1.feature1()\n",
    "a1.feature2()"
   ]
  },
  {
   "cell_type": "markdown",
   "metadata": {},
   "source": [
    "1."
   ]
  },
  {
   "cell_type": "code",
   "execution_count": null,
   "metadata": {},
   "outputs": [],
   "source": []
  },
  {
   "cell_type": "code",
   "execution_count": 5,
   "metadata": {},
   "outputs": [
    {
     "name": "stdout",
     "output_type": "stream",
     "text": [
      "PR Institutes\n",
      "Average marks of student1: 78.0\n",
      "Average marks of student1: 73.33333333333333\n"
     ]
    }
   ],
   "source": [
    "class students:\n",
    "    school=\"PR Institutes\"\n",
    "    def __init__(self,m1,m2,m3):\n",
    "        self.m1=m1\n",
    "        self.m2=m2\n",
    "        self.m3=m3\n",
    "    def avg(self):\n",
    "        return(self.m1+self.m2+self.m3)/3\n",
    "    @classmethod\n",
    "    def info(cls):\n",
    "        return cls.school\n",
    "\n",
    "s1=students(56,89,89)\n",
    "s2=students(89,75,56)\n",
    "\n",
    "print(students.info())\n",
    "print(\"Average marks of student1:\",s1.avg())\n",
    "print(\"Average marks of student1:\",s2.avg())"
   ]
  },
  {
   "cell_type": "markdown",
   "metadata": {},
   "source": [
    "2."
   ]
  },
  {
   "cell_type": "code",
   "execution_count": 12,
   "metadata": {},
   "outputs": [
    {
     "name": "stdout",
     "output_type": "stream",
     "text": [
      "pradeep 223\n",
      "hp i5 16\n",
      "shive 232\n",
      "hp i5 16\n"
     ]
    }
   ],
   "source": [
    "class students:\n",
    "    def __init__(self,name,rollno):\n",
    "        self.name=name\n",
    "        self.rollno=rollno\n",
    "        self.lap=self.Laptop()\n",
    "    def show(self):\n",
    "        print(self.name,self.rollno)\n",
    "        self.lap.show()\n",
    "    \n",
    "    class Laptop:\n",
    "        def __init__(self):\n",
    "            self.brand=\"hp\"\n",
    "            self.cpu=\"i5\"\n",
    "            self.ram=16\n",
    "        def show(self):\n",
    "            print(self.brand,self.cpu,self.ram)\n",
    "    \n",
    "s1=students(\"pradeep\",223)\n",
    "S2=students(\"shive\",232)\n",
    "\n",
    "s1.show()\n",
    "S2.show()\n",
    "    \n"
   ]
  },
  {
   "cell_type": "markdown",
   "metadata": {},
   "source": [
    "3.Child class i.e inheritance"
   ]
  },
  {
   "cell_type": "code",
   "execution_count": 4,
   "metadata": {},
   "outputs": [
    {
     "name": "stdout",
     "output_type": "stream",
     "text": [
      "feature 1 isworking \n",
      "feature 2 is working\n",
      "\n",
      "\n",
      "feature 1 isworking \n",
      "feature 2 is working\n",
      "feature 3 isworking \n",
      "feature 4 is working\n",
      "\n",
      "\n",
      "feature 1 isworking \n",
      "feature 2 is working\n",
      "feature 3 isworking \n",
      "feature 4 is working\n",
      "feature 5 is working\n"
     ]
    }
   ],
   "source": [
    "class A:#Super class\n",
    "    def feature1(self):\n",
    "        print(\"feature 1 isworking \")\n",
    "    def feature2(self):\n",
    "        print(\"feature 2 is working\")\n",
    "class B(A):#which will get all features from A (Sub class) Here B is subclass A is super class This also called single level inhertance\n",
    "    def feature3(self):\n",
    "        print(\"feature 3 isworking \")\n",
    "    def feature4(self):\n",
    "        print(\"feature 4 is working\")\n",
    "class C(B):#MutiLevel Inheritance This class c inheritace from B and A\n",
    "    def feature5(self):\n",
    "        print(\"feature 5 is working\")\n",
    "    \n",
    "    \n",
    "a1=A()\n",
    "a1.feature1()\n",
    "a1.feature2()\n",
    "print(\"\\n\")\n",
    "b1=B()\n",
    "b1.feature1()\n",
    "b1.feature2()\n",
    "b1.feature3()\n",
    "b1.feature4()\n",
    "print(\"\\n\")\n",
    "c1=C()\n",
    "c1.feature1()\n",
    "c1.feature2()\n",
    "c1.feature3()\n",
    "c1.feature4()\n",
    "c1.feature5()"
   ]
  },
  {
   "cell_type": "markdown",
   "metadata": {},
   "source": [
    "Let say B is not inherting from A so A and B are two different classes i.e A & B both will  features sepratly But C want to access both features from A&B"
   ]
  },
  {
   "cell_type": "code",
   "execution_count": 7,
   "metadata": {},
   "outputs": [
    {
     "name": "stdout",
     "output_type": "stream",
     "text": [
      "feature 1 isworking \n",
      "feature 2 is working\n",
      "\n",
      "\n",
      "feature 3 isworking \n",
      "feature 4 is working\n",
      "\n",
      "\n",
      "feature 1 isworking \n",
      "feature 2 is working\n",
      "feature 3 isworking \n",
      "feature 4 is working\n",
      "feature 5 is working\n"
     ]
    }
   ],
   "source": [
    "class A:#Super class\n",
    "    def feature1(self):\n",
    "        print(\"feature 1 isworking \")\n",
    "    def feature2(self):\n",
    "        print(\"feature 2 is working\")\n",
    "class B:#which will get all features from A (Sub class) Here B is subclass A is super class This also called single level inhertance\n",
    "    def feature3(self):\n",
    "        print(\"feature 3 isworking \")\n",
    "    def feature4(self):\n",
    "        print(\"feature 4 is working\")\n",
    "class C(A,B):#MutiLevel Inheritance This class c inheritace from B and A\n",
    "    def feature5(self):\n",
    "        print(\"feature 5 is working\")\n",
    "\n",
    "a1=A()\n",
    "a1.feature1()\n",
    "a1.feature2()\n",
    "print(\"\\n\")\n",
    "b1=B()\n",
    "b1.feature3()\n",
    "b1.feature4()\n",
    "print(\"\\n\")\n",
    "c1=C()\n",
    "c1.feature1()\n",
    "c1.feature2()\n",
    "c1.feature3()\n",
    "c1.feature4()\n",
    "c1.feature5()"
   ]
  },
  {
   "cell_type": "markdown",
   "metadata": {},
   "source": [
    "# Constructor"
   ]
  },
  {
   "cell_type": "markdown",
   "metadata": {},
   "source": [
    "Note: Subclass can access all the features from super class but super class can not access any features of subclass"
   ]
  },
  {
   "cell_type": "code",
   "execution_count": 7,
   "metadata": {},
   "outputs": [
    {
     "name": "stdout",
     "output_type": "stream",
     "text": [
      "in A init\n",
      "\n",
      "\n",
      "in A init\n"
     ]
    }
   ],
   "source": [
    "class A:#Super class\n",
    "    def __init__(self):\n",
    "        print(\"in A init\")\n",
    "    def feature1(self):\n",
    "        print(\"feature 1 isworking \")\n",
    "    def feature2(self):\n",
    "        print(\"feature 2 is working\")\n",
    "class B(A):#which will get all features from A (Sub class) Here B is subclass A is super class This also called single level inhertance\n",
    "    def feature3(self):\n",
    "        print(\"feature 3 isworking \")\n",
    "    def feature4(self):\n",
    "        print(\"feature 4 is working\")\n",
    "        \n",
    "a=A()\n",
    "print(\"\\n\")\n",
    "b=B()#sence we dont have __init__ in a it is going to A"
   ]
  },
  {
   "cell_type": "code",
   "execution_count": 8,
   "metadata": {},
   "outputs": [
    {
     "name": "stdout",
     "output_type": "stream",
     "text": [
      "in A init\n",
      "\n",
      "\n",
      "in B init\n"
     ]
    }
   ],
   "source": [
    "class A:#Super class\n",
    "    def __init__(self):\n",
    "        print(\"in A init\")\n",
    "    def feature1(self):\n",
    "        print(\"feature 1 isworking \")\n",
    "    def feature2(self):\n",
    "        print(\"feature 2 is working\")\n",
    "class B(A):#which will get all features from A (Sub class) Here B is subclass A is super class This also called single level inhertance\n",
    "    def __init__(self):\n",
    "        print(\"in B init\")\n",
    "    def feature3(self):\n",
    "        print(\"feature 3 isworking \")\n",
    "    def feature4(self):\n",
    "        print(\"feature 4 is working\")\n",
    "        \n",
    "a=A()\n",
    "print(\"\\n\")\n",
    "b=B()#So if you create a object of B first it will try __init__ of B if it is  not found  then it will call init super class"
   ]
  },
  {
   "cell_type": "markdown",
   "metadata": {},
   "source": [
    "What if if want to call init of A as well"
   ]
  },
  {
   "cell_type": "code",
   "execution_count": 10,
   "metadata": {},
   "outputs": [
    {
     "name": "stdout",
     "output_type": "stream",
     "text": [
      "in A init\n",
      "\n",
      "\n",
      "in A init\n",
      "in B Init\n"
     ]
    }
   ],
   "source": [
    "class A:#Super class\n",
    "    def __init__(self):\n",
    "        print(\"in A init\")\n",
    "    def feature1(self):\n",
    "        print(\"feature 1 isworking \")\n",
    "    def feature2(self):\n",
    "        print(\"feature 2 is working\")\n",
    "class B(A):#which will get all features from A (Sub class) Here B is subclass A is super class This also called single level inhertance\n",
    "    def __init__(self):\n",
    "        #we have special key word called super().the moment you say super you can access all the feilds of parent class\n",
    "        #super().__init__() Here we are going to call init method of class A\n",
    "        super().__init__()\n",
    "        print(\"in B Init\")\n",
    "    \n",
    "    def feature3(self):\n",
    "        print(\"feature 3 isworking \")\n",
    "    def feature4(self):\n",
    "        print(\"feature 4 is working\")\n",
    "        \n",
    "a=A()\n",
    "print(\"\\n\")\n",
    "b=B()#when we create a object of subclass it will call init of subclass first\n",
    "#if you have call super.then it will call init of superclass then call init of sub class"
   ]
  },
  {
   "cell_type": "code",
   "execution_count": 21,
   "metadata": {},
   "outputs": [
    {
     "name": "stdout",
     "output_type": "stream",
     "text": [
      "In A init\n",
      "In c Init\n",
      "feature 1 isworking \n",
      "feature 2 is working\n"
     ]
    }
   ],
   "source": [
    "class A:#Super class\n",
    "    def __init__(self):\n",
    "        print(\"In A init\")\n",
    "    def feature1(self):\n",
    "        print(\"feature 1 isworking \")\n",
    "    def feature2(self):\n",
    "        print(\"feature 2 is working\")\n",
    "class B:#which will get all features from A (Sub class) Here B is subclass A is super class This also called single level inhertance\n",
    "    def __init__(self):\n",
    "        print(\"in __init__ B\")\n",
    "    def feature3(self):\n",
    "        print(\"feature 3 isworking \")\n",
    "    def feature4(self):\n",
    "        print(\"feature 4 is working\")\n",
    "class C(A,B):#MutiLevel Inheritance This class c inheritace from B and A\n",
    "    def __init__(self):\n",
    "        super().__init__()#here it will call only super class,what if you want to call subclass as well for this we have concept called MRO\n",
    "        print(\"In c Init\")\n",
    "    def feature5(self):\n",
    "        print(\"feature 5 is working\")\n",
    "    def feat(self):\n",
    "        super().feature2()\n",
    "\n",
    "c=C()\n",
    "c.feature1()\n",
    "c.feat()"
   ]
  },
  {
   "cell_type": "markdown",
   "metadata": {},
   "source": [
    "# Method Resolution order (MRO)"
   ]
  },
  {
   "cell_type": "markdown",
   "metadata": {},
   "source": [
    "When ever you have a mutiple inheritance it will always starts left to right"
   ]
  },
  {
   "cell_type": "markdown",
   "metadata": {},
   "source": [
    "# Polymorphism"
   ]
  },
  {
   "cell_type": "markdown",
   "metadata": {},
   "source": [
    "poly means many\n",
    "morh means form                                                                                                                \n",
    "one thing can take mutiple forms                                                                                               \n",
    "when we see object orented,object will have mutiple forms                                                                      \n",
    "this concept is very important in Loose coupling,Dependecy Injection, Interfaces"
   ]
  },
  {
   "cell_type": "markdown",
   "metadata": {},
   "source": [
    "There are 4 ways of implementing ploymorphism                                                                                  \n",
    "1.Duck Typing                                                                                                                  \n",
    "2.Operator overloading                                                                                                         \n",
    "3.Method overriding                                                                                                            \n",
    "4.Method OverLoading"
   ]
  },
  {
   "cell_type": "code",
   "execution_count": null,
   "metadata": {},
   "outputs": [],
   "source": []
  }
 ],
 "metadata": {
  "kernelspec": {
   "display_name": "Python 3",
   "language": "python",
   "name": "python3"
  },
  "language_info": {
   "codemirror_mode": {
    "name": "ipython",
    "version": 3
   },
   "file_extension": ".py",
   "mimetype": "text/x-python",
   "name": "python",
   "nbconvert_exporter": "python",
   "pygments_lexer": "ipython3",
   "version": "3.7.3"
  }
 },
 "nbformat": 4,
 "nbformat_minor": 4
}
